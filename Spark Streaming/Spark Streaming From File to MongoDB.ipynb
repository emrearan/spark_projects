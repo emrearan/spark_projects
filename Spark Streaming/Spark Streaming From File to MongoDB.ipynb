{
 "cells": [
  {
   "cell_type": "code",
   "execution_count": 1,
   "metadata": {},
   "outputs": [],
   "source": [
    "# This Python file checks location of \"data/input\" constantly. If there is new file, spark gets data inside file and insert to MongoDB. "
   ]
  },
  {
   "cell_type": "code",
   "execution_count": 2,
   "metadata": {},
   "outputs": [],
   "source": [
    "import findspark\n",
    "findspark.init(\"\")"
   ]
  },
  {
   "cell_type": "code",
   "execution_count": 3,
   "metadata": {},
   "outputs": [],
   "source": [
    "from pyspark.sql import SparkSession\n",
    "from pyspark.sql.types import *\n",
    "import pymongo\n",
    "import pandas as pd\n",
    "import datetime"
   ]
  },
  {
   "cell_type": "code",
   "execution_count": 4,
   "metadata": {},
   "outputs": [],
   "source": [
    "# This creates a client that uses the default port on localhost.\n",
    "client = pymongo.MongoClient()\n",
    "db = client[\"humour\"]\n",
    "col = db[\"jokes\"]\n"
   ]
  },
  {
   "cell_type": "code",
   "execution_count": 5,
   "metadata": {},
   "outputs": [],
   "source": [
    "# This function inserts data to MongoDB\n",
    "def foreach_batch_function(df, epoch_id):  \n",
    "    \n",
    "    df = df.toPandas() # Spark df to Pandas df\n",
    "    df = df.rename(columns={'id':'id_'})    \n",
    "    \n",
    "    data = df.to_dict('records')\n",
    "    now = datetime.datetime.now().strftime(\"%Y-%m-%d %H:%M:%S\") \n",
    "\n",
    "    data_list = [{ \"date\":now,\"jokes\":data}]\n",
    "\n",
    "    x = col.insert_many(data_list)\n",
    "    print(now + ': Data has been inserted to collection of humour.jokes')\n",
    "       \n",
    "    pass"
   ]
  },
  {
   "cell_type": "code",
   "execution_count": null,
   "metadata": {},
   "outputs": [
    {
     "name": "stdout",
     "output_type": "stream",
     "text": [
      "File Streaming Application - MongoDB has been started!\n",
      "\n",
      "Schema details are:\n",
      "\n",
      "root\n",
      " |-- id: integer (nullable = true)\n",
      " |-- type: string (nullable = true)\n",
      " |-- setup: string (nullable = true)\n",
      " |-- punchline: string (nullable = true)\n",
      "\n",
      "2021-05-22 16:22:55: Data has been inserted to collection of humour.jokes\n",
      "2021-05-22 16:23:06: Data has been inserted to collection of humour.jokes\n"
     ]
    }
   ],
   "source": [
    "if __name__ == \"__main__\":\n",
    "\n",
    "    spark = SparkSession \\\n",
    "            .builder \\\n",
    "            .appName(\"File Streaming Application - MongoDB\") \\\n",
    "            .master(\"local[*]\") \\\n",
    "            .getOrCreate()\n",
    "    \n",
    "    print('File Streaming Application - MongoDB has been started!\\n')\n",
    "    \n",
    "    input_schema = StructType([\n",
    "        StructField(\"id\", IntegerType(), True),\n",
    "        StructField(\"type\", StringType(), True),\n",
    "        StructField(\"setup\", StringType(), True),\n",
    "        StructField(\"punchline\", StringType(), True)\n",
    "    ])\n",
    "\n",
    "\n",
    "    streaming_df = spark \\\n",
    "                .readStream \\\n",
    "                .format(\"csv\") \\\n",
    "                .option(\"header\", \"true\") \\\n",
    "                .schema(input_schema) \\\n",
    "                .load(path=\"data/input\")\n",
    "    \n",
    "    print('Schema details are:\\n')\n",
    "    streaming_df.printSchema()\n",
    "\n",
    "    streaming_df_query = streaming_df \\\n",
    "                        .writeStream \\\n",
    "                        .foreachBatch(foreach_batch_function) \\\n",
    "                        .start()\n",
    "    \n",
    "    streaming_df_query.awaitTermination()"
   ]
  },
  {
   "cell_type": "code",
   "execution_count": null,
   "metadata": {},
   "outputs": [],
   "source": []
  }
 ],
 "metadata": {
  "kernelspec": {
   "display_name": "Python 3",
   "language": "python",
   "name": "python3"
  },
  "language_info": {
   "codemirror_mode": {
    "name": "ipython",
    "version": 3
   },
   "file_extension": ".py",
   "mimetype": "text/x-python",
   "name": "python",
   "nbconvert_exporter": "python",
   "pygments_lexer": "ipython3",
   "version": "3.8.5"
  }
 },
 "nbformat": 4,
 "nbformat_minor": 4
}
