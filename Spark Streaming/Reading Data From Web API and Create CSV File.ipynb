{
 "cells": [
  {
   "cell_type": "code",
   "execution_count": 1,
   "metadata": {},
   "outputs": [],
   "source": [
    "import requests\n",
    "import json\n",
    "import pandas as pd\n",
    "import shutil\n",
    "import pathlib\n",
    "import datetime\n",
    "import pymongo\n",
    "import datetime\n",
    "from bson.json_util import dumps, loads"
   ]
  },
  {
   "cell_type": "code",
   "execution_count": 2,
   "metadata": {},
   "outputs": [],
   "source": [
    "# This function gets data from web API and converts to csv file.\n",
    "def get_jokes():\n",
    "    columns = ['id','date','type', 'setup','punchline']\n",
    "    jokes_df = pd.DataFrame(columns=columns)\n",
    "    now = datetime.datetime.now().strftime(\"%Y%m%d_%H%M%S\")\n",
    "    now_data = datetime.datetime.now().strftime(\"%Y-%m-%d %H:%M:%S\") \n",
    "    for i in range(3):\n",
    "        response = requests.get('https://official-joke-api.appspot.com/random_joke')\n",
    "        jokes = json.loads(response.text)\n",
    "        new_row = {'id':jokes['id'], 'date':now_data,'type':jokes['type'], 'setup':jokes['setup'], 'punchline':jokes['punchline']}\n",
    "        jokes_df = jokes_df.append(new_row, ignore_index=True)\n",
    "    jokes_df.to_csv('data/temp/jokes_{}.csv'.format(now), sep=',', index=False)\n",
    "    original = str(pathlib.Path().absolute()) + '\\\\data\\\\temp\\\\jokes_{}.csv'.format(now)\n",
    "    target = str(pathlib.Path().absolute()) + '\\\\data\\\\input\\\\jokes_{}.csv'.format(now)\n",
    "    shutil.copyfile(original, target)\n",
    "    print('New CSV file created.')\n",
    "    return"
   ]
  },
  {
   "cell_type": "code",
   "execution_count": 11,
   "metadata": {},
   "outputs": [
    {
     "name": "stdout",
     "output_type": "stream",
     "text": [
      "New CSV file created.\n"
     ]
    }
   ],
   "source": [
    "get_jokes()"
   ]
  },
  {
   "cell_type": "code",
   "execution_count": 4,
   "metadata": {},
   "outputs": [],
   "source": [
    "# This creates a client that uses the default port on localhost.\n",
    "client = pymongo.MongoClient()\n",
    "db = client.humour"
   ]
  },
  {
   "cell_type": "code",
   "execution_count": 10,
   "metadata": {},
   "outputs": [
    {
     "name": "stdout",
     "output_type": "stream",
     "text": [
      "[\n",
      "  {\n",
      "    \"date\": \"2021-05-22 16:22:55\",\n",
      "    \"jokes\": [\n",
      "      {\n",
      "        \"id_\": 157,\n",
      "        \"type\": \"2021-05-22 16:22:15\",\n",
      "        \"setup\": \"general\",\n",
      "        \"punchline\": \"What are the strongest days of the week?\"\n",
      "      },\n",
      "      {\n",
      "        \"id_\": 103,\n",
      "        \"type\": \"2021-05-22 16:22:15\",\n",
      "        \"setup\": \"general\",\n",
      "        \"punchline\": \"Did you know crocodiles could grow up to 15 feet?\"\n",
      "      },\n",
      "      {\n",
      "        \"id_\": 113,\n",
      "        \"type\": \"2021-05-22 16:22:15\",\n",
      "        \"setup\": \"general\",\n",
      "        \"punchline\": \"Have you heard the rumor going around about butter?\"\n",
      "      }\n",
      "    ]\n",
      "  }\n",
      "]\n"
     ]
    }
   ],
   "source": [
    "# This brings data from collection of humour.jokes in JSON format.\n",
    "cursor = db.jokes.find({}, {'_id':0})\n",
    "\n",
    "# Data can be filtered like this\n",
    "#cursor = db.jokes.find({\"date\": \"2021-05-22 15:38:22\"}, {'_id':0})\n",
    "\n",
    "cursor_data = list(cursor) \n",
    "json_data = dumps(cursor_data, indent = 2) \n",
    "print(json_data)"
   ]
  },
  {
   "cell_type": "code",
   "execution_count": 6,
   "metadata": {},
   "outputs": [],
   "source": [
    "# This creates JSON file as an ouput from MongoDB\n",
    "with open('data/output/jokes.json', 'w') as file:\n",
    "    file.write(json_data)"
   ]
  },
  {
   "cell_type": "code",
   "execution_count": 7,
   "metadata": {},
   "outputs": [],
   "source": [
    "# This can be used to delete data from collection of humour.jokes\n",
    "col = db[\"jokes\"]\n",
    "x = col.delete_many({})"
   ]
  },
  {
   "cell_type": "code",
   "execution_count": null,
   "metadata": {},
   "outputs": [],
   "source": []
  }
 ],
 "metadata": {
  "kernelspec": {
   "display_name": "Python 3",
   "language": "python",
   "name": "python3"
  },
  "language_info": {
   "codemirror_mode": {
    "name": "ipython",
    "version": 3
   },
   "file_extension": ".py",
   "mimetype": "text/x-python",
   "name": "python",
   "nbconvert_exporter": "python",
   "pygments_lexer": "ipython3",
   "version": "3.8.5"
  }
 },
 "nbformat": 4,
 "nbformat_minor": 4
}
